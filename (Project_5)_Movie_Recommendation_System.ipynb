{
  "nbformat": 4,
  "nbformat_minor": 0,
  "metadata": {
    "colab": {
      "provenance": []
    },
    "kernelspec": {
      "name": "python3",
      "display_name": "Python 3"
    },
    "language_info": {
      "name": "python"
    }
  },
  "cells": [
    {
      "cell_type": "markdown",
      "source": [
        "**Movie Recommendation System**"
      ],
      "metadata": {
        "id": "kVOERlkNMLJy"
      }
    },
    {
      "cell_type": "markdown",
      "source": [
        "Import Libraries"
      ],
      "metadata": {
        "id": "uwYvxg9FMOYM"
      }
    },
    {
      "cell_type": "code",
      "source": [
        "import pandas as pd\n",
        "import numpy as np\n",
        "from sklearn.metrics.pairwise import cosine_similarity\n",
        "from sklearn.feature_extraction.text import TfidfVectorizer\n",
        "import matplotlib.pyplot as plt\n",
        "import seaborn as sns"
      ],
      "metadata": {
        "id": "XeX_Sb5XL6ye"
      },
      "execution_count": 2,
      "outputs": []
    },
    {
      "cell_type": "markdown",
      "source": [
        "Load and Explore the Dataset"
      ],
      "metadata": {
        "id": "I25n_niJMUdr"
      }
    },
    {
      "cell_type": "code",
      "source": [
        "# Load ratings data\n",
        "ratings = pd.read_csv('/content/ml-100k/ml-100k/u.data', sep='\\t', names=['user_id', 'movie_id', 'rating', 'timestamp'])\n",
        "\n",
        "# Load movie data\n",
        "movies = pd.read_csv('/content/ml-100k/ml-100k/u.item', sep='|', encoding='latin-1',\n",
        "                     names=['movie_id', 'title', 'release_date', 'video_release_date', 'imdb_url',\n",
        "                            'unknown', 'Action', 'Adventure', 'Animation', 'Children', 'Comedy',\n",
        "                            'Crime', 'Documentary', 'Drama', 'Fantasy', 'Film-Noir', 'Horror',\n",
        "                            'Musical', 'Mystery', 'Romance', 'Sci-Fi', 'Thriller', 'War', 'Western'])\n",
        "\n",
        "# Drop unnecessary columns\n",
        "movies = movies[['movie_id', 'title', 'Action', 'Adventure', 'Animation', 'Children', 'Comedy',\n",
        "                 'Crime', 'Documentary', 'Drama', 'Fantasy', 'Film-Noir', 'Horror',\n",
        "                 'Musical', 'Mystery', 'Romance', 'Sci-Fi', 'Thriller', 'War', 'Western']]\n",
        "\n",
        "# Merge ratings and movies\n",
        "data = pd.merge(ratings, movies, on='movie_id')\n",
        "\n",
        "# Explore the data\n",
        "print(\"Ratings Info:\")\n",
        "print(ratings.info())\n",
        "print(\"\\nMovies Info:\")\n",
        "print(movies.info())\n",
        "print(\"\\nSample Data:\")\n",
        "print(data[['user_id', 'title', 'rating']].head())"
      ],
      "metadata": {
        "colab": {
          "base_uri": "https://localhost:8080/"
        },
        "id": "ZYDJOtWIMS5E",
        "outputId": "063b98d6-3a2f-4807-bc0d-21994565ccd3"
      },
      "execution_count": 12,
      "outputs": [
        {
          "output_type": "stream",
          "name": "stdout",
          "text": [
            "Ratings Info:\n",
            "<class 'pandas.core.frame.DataFrame'>\n",
            "RangeIndex: 100000 entries, 0 to 99999\n",
            "Data columns (total 4 columns):\n",
            " #   Column     Non-Null Count   Dtype\n",
            "---  ------     --------------   -----\n",
            " 0   user_id    100000 non-null  int64\n",
            " 1   movie_id   100000 non-null  int64\n",
            " 2   rating     100000 non-null  int64\n",
            " 3   timestamp  100000 non-null  int64\n",
            "dtypes: int64(4)\n",
            "memory usage: 3.1 MB\n",
            "None\n",
            "\n",
            "Movies Info:\n",
            "<class 'pandas.core.frame.DataFrame'>\n",
            "RangeIndex: 1682 entries, 0 to 1681\n",
            "Data columns (total 20 columns):\n",
            " #   Column       Non-Null Count  Dtype \n",
            "---  ------       --------------  ----- \n",
            " 0   movie_id     1682 non-null   int64 \n",
            " 1   title        1682 non-null   object\n",
            " 2   Action       1682 non-null   int64 \n",
            " 3   Adventure    1682 non-null   int64 \n",
            " 4   Animation    1682 non-null   int64 \n",
            " 5   Children     1682 non-null   int64 \n",
            " 6   Comedy       1682 non-null   int64 \n",
            " 7   Crime        1682 non-null   int64 \n",
            " 8   Documentary  1682 non-null   int64 \n",
            " 9   Drama        1682 non-null   int64 \n",
            " 10  Fantasy      1682 non-null   int64 \n",
            " 11  Film-Noir    1682 non-null   int64 \n",
            " 12  Horror       1682 non-null   int64 \n",
            " 13  Musical      1682 non-null   int64 \n",
            " 14  Mystery      1682 non-null   int64 \n",
            " 15  Romance      1682 non-null   int64 \n",
            " 16  Sci-Fi       1682 non-null   int64 \n",
            " 17  Thriller     1682 non-null   int64 \n",
            " 18  War          1682 non-null   int64 \n",
            " 19  Western      1682 non-null   int64 \n",
            "dtypes: int64(19), object(1)\n",
            "memory usage: 262.9+ KB\n",
            "None\n",
            "\n",
            "Sample Data:\n",
            "   user_id                       title  rating\n",
            "0      196                Kolya (1996)       3\n",
            "1      186    L.A. Confidential (1997)       3\n",
            "2       22         Heavyweights (1994)       1\n",
            "3      244  Legends of the Fall (1994)       2\n",
            "4      166         Jackie Brown (1997)       1\n"
          ]
        }
      ]
    },
    {
      "cell_type": "markdown",
      "source": [
        "Data Preprocessing"
      ],
      "metadata": {
        "id": "EienFgRZONPu"
      }
    },
    {
      "cell_type": "code",
      "source": [
        "print(\"Missing values in ratings:\", ratings.isnull().sum())\n",
        "print(\"Missing values in movies:\", movies.isnull().sum())"
      ],
      "metadata": {
        "colab": {
          "base_uri": "https://localhost:8080/"
        },
        "id": "MkcntufbOOoT",
        "outputId": "1418a567-526e-4b94-8acd-bb569a97e42a"
      },
      "execution_count": 13,
      "outputs": [
        {
          "output_type": "stream",
          "name": "stdout",
          "text": [
            "Missing values in ratings: user_id      0\n",
            "movie_id     0\n",
            "rating       0\n",
            "timestamp    0\n",
            "dtype: int64\n",
            "Missing values in movies: movie_id       0\n",
            "title          0\n",
            "Action         0\n",
            "Adventure      0\n",
            "Animation      0\n",
            "Children       0\n",
            "Comedy         0\n",
            "Crime          0\n",
            "Documentary    0\n",
            "Drama          0\n",
            "Fantasy        0\n",
            "Film-Noir      0\n",
            "Horror         0\n",
            "Musical        0\n",
            "Mystery        0\n",
            "Romance        0\n",
            "Sci-Fi         0\n",
            "Thriller       0\n",
            "War            0\n",
            "Western        0\n",
            "dtype: int64\n"
          ]
        }
      ]
    },
    {
      "cell_type": "code",
      "source": [
        "user_item_matrix = ratings.pivot(index='user_id', columns='movie_id', values='rating').fillna(0)\n",
        "print(\"User-Item Matrix Shape:\", user_item_matrix.shape)"
      ],
      "metadata": {
        "colab": {
          "base_uri": "https://localhost:8080/"
        },
        "id": "5UbAvLE6ORQe",
        "outputId": "907c6568-c24c-4688-b68d-b7d0b4a2774c"
      },
      "execution_count": 14,
      "outputs": [
        {
          "output_type": "stream",
          "name": "stdout",
          "text": [
            "User-Item Matrix Shape: (943, 1682)\n"
          ]
        }
      ]
    },
    {
      "cell_type": "code",
      "source": [
        "# Create a 'genres' column by combining genre columns into a single string\n",
        "genre_columns = ['Action', 'Adventure', 'Animation', 'Children', 'Comedy', 'Crime',\n",
        "                 'Documentary', 'Drama', 'Fantasy', 'Film-Noir', 'Horror', 'Musical',\n",
        "                 'Mystery', 'Romance', 'Sci-Fi', 'Thriller', 'War', 'Western']\n",
        "\n",
        "def combine_genres(row):\n",
        "    genres = [col for col in genre_columns if row[col] == 1]\n",
        "    return ' '.join(genres) if genres else 'Unknown'\n",
        "\n",
        "movies['genres'] = movies.apply(combine_genres, axis=1)\n",
        "print(movies[['title', 'genres']].head())"
      ],
      "metadata": {
        "colab": {
          "base_uri": "https://localhost:8080/"
        },
        "id": "wRFlhFrUOUyU",
        "outputId": "d292e0a0-4b78-4397-d540-dd35cecb3ba7"
      },
      "execution_count": 15,
      "outputs": [
        {
          "output_type": "stream",
          "name": "stdout",
          "text": [
            "               title                     genres\n",
            "0   Toy Story (1995)  Animation Children Comedy\n",
            "1   GoldenEye (1995)  Action Adventure Thriller\n",
            "2  Four Rooms (1995)                   Thriller\n",
            "3  Get Shorty (1995)        Action Comedy Drama\n",
            "4     Copycat (1995)       Crime Drama Thriller\n"
          ]
        }
      ]
    },
    {
      "cell_type": "markdown",
      "source": [
        "Collaborative Filtering"
      ],
      "metadata": {
        "id": "4A55TCYsOZkp"
      }
    },
    {
      "cell_type": "code",
      "source": [
        "# Calculate cosine similarity between users\n",
        "user_similarity = cosine_similarity(user_item_matrix)\n",
        "user_similarity_df = pd.DataFrame(user_similarity, index=user_item_matrix.index,\n",
        "                                 columns=user_item_matrix.index)\n",
        "\n",
        "# Function to get recommendations for a user\n",
        "def get_collaborative_recommendations(user_id, user_item_matrix, user_similarity_df, movies, n=5):\n",
        "    # Get similar users\n",
        "    similar_users = user_similarity_df[user_id].sort_values(ascending=False)[1:n+1].index\n",
        "    # Get movies rated highly by similar users\n",
        "    similar_user_ratings = user_item_matrix.loc[similar_users]\n",
        "    mean_ratings = similar_user_ratings.mean(axis=0)\n",
        "    # Filter out movies the user has already rated\n",
        "    user_rated_movies = user_item_matrix.loc[user_id][user_item_matrix.loc[user_id] > 0].index\n",
        "    recommendations = mean_ratings.drop(user_rated_movies).sort_values(ascending=False).head(n)\n",
        "    # Get movie titles\n",
        "    recommended_movies = movies[movies['movie_id'].isin(recommendations.index)][['title']]\n",
        "    return recommended_movies\n",
        "\n",
        "# Example: Recommendations for user ID 1\n",
        "print(\"Collaborative Filtering Recommendations for User 1:\")\n",
        "print(get_collaborative_recommendations(1, user_item_matrix, user_similarity_df, movies))"
      ],
      "metadata": {
        "colab": {
          "base_uri": "https://localhost:8080/"
        },
        "id": "NCv-pVFyOZQB",
        "outputId": "9064236a-34b9-4610-f22c-babb295f0f58"
      },
      "execution_count": 23,
      "outputs": [
        {
          "output_type": "stream",
          "name": "stdout",
          "text": [
            "Collaborative Filtering Recommendations for User 1:\n",
            "                                                 title\n",
            "272                                        Heat (1995)\n",
            "432                                    Heathers (1989)\n",
            "473  Dr. Strangelove or: How I Learned to Stop Worr...\n",
            "565                    Clear and Present Danger (1994)\n",
            "731                                        Dave (1993)\n"
          ]
        }
      ]
    },
    {
      "cell_type": "markdown",
      "source": [
        "Content-Based Filtering"
      ],
      "metadata": {
        "id": "eMgNZRicO0ox"
      }
    },
    {
      "cell_type": "code",
      "source": [
        "# Initialize TF-IDF vectorizer for genres\n",
        "tfidf = TfidfVectorizer()\n",
        "tfidf_matrix = tfidf.fit_transform(movies['genres'])\n",
        "\n",
        "# Calculate cosine similarity between movies\n",
        "movie_similarity = cosine_similarity(tfidf_matrix)\n",
        "movie_similarity_df = pd.DataFrame(movie_similarity, index=movies['movie_id'],\n",
        "                                   columns=movies['movie_id'])\n",
        "\n",
        "# Function to get content-based recommendations\n",
        "def get_content_based_recommendations(movie_title, movies, movie_similarity_df, n=5):\n",
        "    movie_id = movies[movies['title'] == movie_title]['movie_id'].iloc[0]\n",
        "    similar_movies = movie_similarity_df[movie_id].sort_values(ascending=False)[1:n+1].index\n",
        "    return movies[movies['movie_id'].isin(similar_movies)][['title']]\n",
        "\n",
        "# Example: Recommendations for a specific movie\n",
        "print(\"\\nContent-Based Recommendations for 'Titanic (1997)':\")\n",
        "print(get_content_based_recommendations('Titanic (1997)', movies, movie_similarity_df))"
      ],
      "metadata": {
        "colab": {
          "base_uri": "https://localhost:8080/"
        },
        "id": "gJIHwTfLOdrq",
        "outputId": "e3a0c3a9-8d41-4b54-a704-ffb247046b15"
      },
      "execution_count": 33,
      "outputs": [
        {
          "output_type": "stream",
          "name": "stdout",
          "text": [
            "\n",
            "Content-Based Recommendations for 'Titanic (1997)':\n",
            "                                 title\n",
            "160                     Top Gun (1986)\n",
            "312                     Titanic (1997)\n",
            "719                First Knight (1995)\n",
            "848             Days of Thunder (1990)\n",
            "1482  Man in the Iron Mask, The (1998)\n"
          ]
        }
      ]
    },
    {
      "cell_type": "markdown",
      "source": [
        "Visualization"
      ],
      "metadata": {
        "id": "VxO0Yo7WP3No"
      }
    },
    {
      "cell_type": "markdown",
      "source": [
        "Rating Distribution"
      ],
      "metadata": {
        "id": "FS95C-6DQLzz"
      }
    },
    {
      "cell_type": "code",
      "source": [
        "rating_counts = ratings['rating'].value_counts().sort_index()\n",
        "plt.figure(figsize=(8, 6))\n",
        "sns.barplot(x=rating_counts.index, y=rating_counts.values, palette='Blues')\n",
        "plt.title('Distribution of Movie Ratings')\n",
        "plt.xlabel('Rating')\n",
        "plt.ylabel('Number of Ratings')\n",
        "plt.show()"
      ],
      "metadata": {
        "colab": {
          "base_uri": "https://localhost:8080/",
          "height": 651
        },
        "id": "Vs1Skjt4O1_u",
        "outputId": "9da5b120-a4fc-462a-9716-a00d505c9ba2"
      },
      "execution_count": 34,
      "outputs": [
        {
          "output_type": "stream",
          "name": "stderr",
          "text": [
            "<ipython-input-34-4824f7483895>:3: FutureWarning: \n",
            "\n",
            "Passing `palette` without assigning `hue` is deprecated and will be removed in v0.14.0. Assign the `x` variable to `hue` and set `legend=False` for the same effect.\n",
            "\n",
            "  sns.barplot(x=rating_counts.index, y=rating_counts.values, palette='Blues')\n"
          ]
        },
        {
          "output_type": "display_data",
          "data": {
            "text/plain": [
              "<Figure size 800x600 with 1 Axes>"
            ],
            "image/png": "[encoded data removed]"
          },
          "metadata": {}
        }
      ]
    },
    {
      "cell_type": "markdown",
      "source": [
        "Genre Trends"
      ],
      "metadata": {
        "id": "AA5J1mg2QGB6"
      }
    },
    {
      "cell_type": "code",
      "source": [
        "genre_counts = movies[genre_columns].sum().sort_values(ascending=False)\n",
        "plt.figure(figsize=(10, 6))\n",
        "sns.barplot(x=genre_counts.values, y=genre_counts.index, palette='Greens')\n",
        "plt.title('Genre Popularity')\n",
        "plt.xlabel('Number of Movies')\n",
        "plt.ylabel('Genre')\n",
        "plt.show()"
      ],
      "metadata": {
        "colab": {
          "base_uri": "https://localhost:8080/",
          "height": 651
        },
        "id": "c47HSK_JP92z",
        "outputId": "de76ecfa-13fb-409e-b1d3-c0c2f44e32f3"
      },
      "execution_count": 36,
      "outputs": [
        {
          "output_type": "stream",
          "name": "stderr",
          "text": [
            "<ipython-input-36-0f262b953a31>:3: FutureWarning: \n",
            "\n",
            "Passing `palette` without assigning `hue` is deprecated and will be removed in v0.14.0. Assign the `y` variable to `hue` and set `legend=False` for the same effect.\n",
            "\n",
            "  sns.barplot(x=genre_counts.values, y=genre_counts.index, palette='Greens')\n"
          ]
        },
        {
          "output_type": "display_data",
          "data": {
            "text/plain": [
              "<Figure size 1000x600 with 1 Axes>"
            ],
            "image/png": "[encoded data removed]"
          },
          "metadata": {}
        }
      ]
    }
  ]
}