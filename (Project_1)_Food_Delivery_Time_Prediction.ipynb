{
  "nbformat": 4,
  "nbformat_minor": 0,
  "metadata": {
    "colab": {
      "provenance": []
    },
    "kernelspec": {
      "name": "python3",
      "display_name": "Python 3"
    },
    "language_info": {
      "name": "python"
    }
  },
  "cells": [
    {
      "cell_type": "markdown",
      "source": [
        "**Food Delivery Time Prediction**"
      ],
      "metadata": {
        "id": "GvYcU-5gX86X"
      }
    },
    {
      "cell_type": "markdown",
      "source": [
        "**1. Data Preprocessing + Feature Engineering**"
      ],
      "metadata": {
        "id": "FL3GsQ5RXLRk"
      }
    },
    {
      "cell_type": "code",
      "source": [
        "#Importing necessary libraries\n",
        "import numpy as np\n",
        "import pandas as pd\n",
        "from haversine import haversine\n",
        "from sklearn.preprocessing import StandardScaler\n",
        "\n",
        "#Importing the dataset\n",
        "df = pd.read_csv(\"Food_Delivery_Time_Prediction.csv\")\n",
        "\n",
        "#Extract coordinates\n",
        "df[['Cust_Lat', 'Cust_Lon']] = df['Customer_Location'].str.extract(r'\\((.*), (.*)\\)').astype(float)\n",
        "df[['Rest_Lat', 'Rest_Lon']] = df['Restaurant_Location'].str.extract(r'\\((.*), (.*)\\)').astype(float)\n",
        "\n",
        "#Calculate Distance\n",
        "df['Distance_km'] = df.apply(lambda row: haversine((row['Cust_Lat'], row['Cust_Lon']), (row['Rest_Lat'], row['Rest_Lon'])), axis=1)\n",
        "\n",
        "#Time mapping\n",
        "time_mapping = {\n",
        "    'Morning': '08:00',\n",
        "    'Afternoon': '13:00',\n",
        "    'Evening': '18:00',\n",
        "    'Night': '22:00'\n",
        "}\n",
        "\n",
        "#Time Features\n",
        "df['Order_Time'] = df['Order_Time'].map(time_mapping)\n",
        "df['Order_Time'] = pd.to_datetime(df['Order_Time'], format='%H:%M')\n",
        "df['Hour'] = df['Order_Time'].dt.hour\n",
        "df['Is_Rush_Hour'] = df['Hour'].apply(lambda x: 1 if 7 <= x <= 9 or 17 <= x <= 20 else 0)\n",
        "\n",
        "#Encode categorical features\n",
        "df = pd.get_dummies(df, columns=['Weather_Conditions', 'Traffic_Conditions'], drop_first=True)\n",
        "\n",
        "#Normalize\n",
        "scaler = StandardScaler()\n",
        "df[['Distance_km']] = scaler.fit_transform(df[['Distance_km']])\n",
        "\n",
        "df.to_csv(\"processed_food_delivery.csv\", index=False)"
      ],
      "metadata": {
        "id": "wB08We54QXmq"
      },
      "execution_count": 22,
      "outputs": []
    },
    {
      "cell_type": "markdown",
      "source": [
        "**2. CNN-Based Classification**"
      ],
      "metadata": {
        "id": "I9oRFFoiXdwR"
      }
    },
    {
      "cell_type": "code",
      "source": [
        "#Importing necessary libraries\n",
        "from tensorflow.keras.models import Sequential\n",
        "from tensorflow.keras.layers import Conv2D, MaxPooling2D, Flatten, Dense, Dropout\n",
        "from tensorflow.keras.utils import to_categorical\n",
        "from sklearn.model_selection import train_test_split\n",
        "\n",
        "#Prepare features\n",
        "features = ['Cust_Lat', 'Cust_Lon', 'Rest_Lat', 'Rest_Lon', 'Hour', 'Is_Rush_Hour']\n",
        "x = df[features].values.astype(np.float32)\n",
        "\n",
        "#Pad to 16\n",
        "if x.shape[1] < 16:\n",
        "  x = np.pad(x, ((0, 0), (0,16 - x.shape[1])), mode='constant')\n",
        "\n",
        "x_images = x.reshape(-1, 4, 4, 1)\n",
        "df['Delivery_Status'] = df['Delivery_Time'].apply(lambda x: 'Fast' if x <= 30 else 'Delayed')\n",
        "y = df['Delivery_Status'].apply(lambda x: 1 if x == 'Delayed' else 0).astype(int)\n",
        "y_cat = to_categorical(y)\n",
        "\n",
        "#Split\n",
        "x_train, x_test, y_train, y_test = train_test_split(x_images, y_cat, test_size=0.3, random_state=42)\n",
        "\n",
        "#CNN Model\n",
        "model = Sequential([\n",
        "    Conv2D(16, (2, 2), activation='relu', input_shape=(4,4,1)),\n",
        "    MaxPooling2D(2, 2),\n",
        "    Flatten(),\n",
        "    Dense(32, activation='relu'),\n",
        "    Dropout(0.3),\n",
        "    Dense(2, activation='softmax')\n",
        "])\n",
        "\n",
        "model.compile(optimizer='adam', loss='categorical_crossentropy', metrics=['accuracy'])\n",
        "model.fit(x_train, y_train, epochs=20, batch_size=16, validation_data=(x_test, y_test))"
      ],
      "metadata": {
        "colab": {
          "base_uri": "https://localhost:8080/"
        },
        "id": "kr7YelG9Wi5r",
        "outputId": "3c2a9a4b-2b9a-42bb-91f4-7bdd664c0344"
      },
      "execution_count": 32,
      "outputs": [
        {
          "output_type": "stream",
          "name": "stderr",
          "text": [
            "/usr/local/lib/python3.11/dist-packages/keras/src/layers/convolutional/base_conv.py:107: UserWarning: Do not pass an `input_shape`/`input_dim` argument to a layer. When using Sequential models, prefer using an `Input(shape)` object as the first layer in the model instead.\n",
            "  super().__init__(activity_regularizer=activity_regularizer, **kwargs)\n"
          ]
        },
        {
          "output_type": "stream",
          "name": "stdout",
          "text": [
            "Epoch 1/20\n",
            "\u001b[1m9/9\u001b[0m \u001b[32m━━━━━━━━━━━━━━━━━━━━\u001b[0m\u001b[37m\u001b[0m \u001b[1m2s\u001b[0m 37ms/step - accuracy: 0.1251 - loss: 15.3515 - val_accuracy: 0.1000 - val_loss: 7.2751\n",
            "Epoch 2/20\n",
            "\u001b[1m9/9\u001b[0m \u001b[32m━━━━━━━━━━━━━━━━━━━━\u001b[0m\u001b[37m\u001b[0m \u001b[1m0s\u001b[0m 10ms/step - accuracy: 0.2924 - loss: 5.6781 - val_accuracy: 0.7833 - val_loss: 0.4411\n",
            "Epoch 3/20\n",
            "\u001b[1m9/9\u001b[0m \u001b[32m━━━━━━━━━━━━━━━━━━━━\u001b[0m\u001b[37m\u001b[0m \u001b[1m0s\u001b[0m 11ms/step - accuracy: 0.6312 - loss: 1.9559 - val_accuracy: 0.9000 - val_loss: 0.7096\n",
            "Epoch 4/20\n",
            "\u001b[1m9/9\u001b[0m \u001b[32m━━━━━━━━━━━━━━━━━━━━\u001b[0m\u001b[37m\u001b[0m \u001b[1m0s\u001b[0m 10ms/step - accuracy: 0.7896 - loss: 1.3719 - val_accuracy: 0.9000 - val_loss: 0.9308\n",
            "Epoch 5/20\n",
            "\u001b[1m9/9\u001b[0m \u001b[32m━━━━━━━━━━━━━━━━━━━━\u001b[0m\u001b[37m\u001b[0m \u001b[1m0s\u001b[0m 10ms/step - accuracy: 0.8108 - loss: 1.6680 - val_accuracy: 0.9000 - val_loss: 0.8705\n",
            "Epoch 6/20\n",
            "\u001b[1m9/9\u001b[0m \u001b[32m━━━━━━━━━━━━━━━━━━━━\u001b[0m\u001b[37m\u001b[0m \u001b[1m0s\u001b[0m 12ms/step - accuracy: 0.8018 - loss: 1.4051 - val_accuracy: 0.9000 - val_loss: 0.7731\n",
            "Epoch 7/20\n",
            "\u001b[1m9/9\u001b[0m \u001b[32m━━━━━━━━━━━━━━━━━━━━\u001b[0m\u001b[37m\u001b[0m \u001b[1m0s\u001b[0m 15ms/step - accuracy: 0.7788 - loss: 1.7348 - val_accuracy: 0.9000 - val_loss: 0.6255\n",
            "Epoch 8/20\n",
            "\u001b[1m9/9\u001b[0m \u001b[32m━━━━━━━━━━━━━━━━━━━━\u001b[0m\u001b[37m\u001b[0m \u001b[1m0s\u001b[0m 16ms/step - accuracy: 0.8388 - loss: 1.0543 - val_accuracy: 0.9000 - val_loss: 0.5297\n",
            "Epoch 9/20\n",
            "\u001b[1m9/9\u001b[0m \u001b[32m━━━━━━━━━━━━━━━━━━━━\u001b[0m\u001b[37m\u001b[0m \u001b[1m0s\u001b[0m 15ms/step - accuracy: 0.7067 - loss: 1.0857 - val_accuracy: 0.9000 - val_loss: 0.4852\n",
            "Epoch 10/20\n",
            "\u001b[1m9/9\u001b[0m \u001b[32m━━━━━━━━━━━━━━━━━━━━\u001b[0m\u001b[37m\u001b[0m \u001b[1m0s\u001b[0m 21ms/step - accuracy: 0.7666 - loss: 1.3850 - val_accuracy: 0.9000 - val_loss: 0.4930\n",
            "Epoch 11/20\n",
            "\u001b[1m9/9\u001b[0m \u001b[32m━━━━━━━━━━━━━━━━━━━━\u001b[0m\u001b[37m\u001b[0m \u001b[1m0s\u001b[0m 15ms/step - accuracy: 0.7754 - loss: 0.9818 - val_accuracy: 0.9000 - val_loss: 0.4641\n",
            "Epoch 12/20\n",
            "\u001b[1m9/9\u001b[0m \u001b[32m━━━━━━━━━━━━━━━━━━━━\u001b[0m\u001b[37m\u001b[0m \u001b[1m0s\u001b[0m 19ms/step - accuracy: 0.7206 - loss: 1.1967 - val_accuracy: 0.9000 - val_loss: 0.4386\n",
            "Epoch 13/20\n",
            "\u001b[1m9/9\u001b[0m \u001b[32m━━━━━━━━━━━━━━━━━━━━\u001b[0m\u001b[37m\u001b[0m \u001b[1m0s\u001b[0m 17ms/step - accuracy: 0.7260 - loss: 0.9321 - val_accuracy: 0.9000 - val_loss: 0.4380\n",
            "Epoch 14/20\n",
            "\u001b[1m9/9\u001b[0m \u001b[32m━━━━━━━━━━━━━━━━━━━━\u001b[0m\u001b[37m\u001b[0m \u001b[1m0s\u001b[0m 22ms/step - accuracy: 0.7716 - loss: 1.2967 - val_accuracy: 0.9000 - val_loss: 0.4086\n",
            "Epoch 15/20\n",
            "\u001b[1m9/9\u001b[0m \u001b[32m━━━━━━━━━━━━━━━━━━━━\u001b[0m\u001b[37m\u001b[0m \u001b[1m0s\u001b[0m 10ms/step - accuracy: 0.7275 - loss: 1.0473 - val_accuracy: 0.9000 - val_loss: 0.3754\n",
            "Epoch 16/20\n",
            "\u001b[1m9/9\u001b[0m \u001b[32m━━━━━━━━━━━━━━━━━━━━\u001b[0m\u001b[37m\u001b[0m \u001b[1m0s\u001b[0m 11ms/step - accuracy: 0.7149 - loss: 0.9667 - val_accuracy: 0.9000 - val_loss: 0.3872\n",
            "Epoch 17/20\n",
            "\u001b[1m9/9\u001b[0m \u001b[32m━━━━━━━━━━━━━━━━━━━━\u001b[0m\u001b[37m\u001b[0m \u001b[1m0s\u001b[0m 11ms/step - accuracy: 0.7479 - loss: 0.9119 - val_accuracy: 0.9000 - val_loss: 0.3777\n",
            "Epoch 18/20\n",
            "\u001b[1m9/9\u001b[0m \u001b[32m━━━━━━━━━━━━━━━━━━━━\u001b[0m\u001b[37m\u001b[0m \u001b[1m0s\u001b[0m 10ms/step - accuracy: 0.7804 - loss: 0.6731 - val_accuracy: 0.9000 - val_loss: 0.4053\n",
            "Epoch 19/20\n",
            "\u001b[1m9/9\u001b[0m \u001b[32m━━━━━━━━━━━━━━━━━━━━\u001b[0m\u001b[37m\u001b[0m \u001b[1m0s\u001b[0m 10ms/step - accuracy: 0.8390 - loss: 0.6060 - val_accuracy: 0.9000 - val_loss: 0.3823\n",
            "Epoch 20/20\n",
            "\u001b[1m9/9\u001b[0m \u001b[32m━━━━━━━━━━━━━━━━━━━━\u001b[0m\u001b[37m\u001b[0m \u001b[1m0s\u001b[0m 11ms/step - accuracy: 0.7777 - loss: 0.8035 - val_accuracy: 0.9000 - val_loss: 0.3534\n"
          ]
        },
        {
          "output_type": "execute_result",
          "data": {
            "text/plain": [
              "<keras.src.callbacks.history.History at 0x7e5f18550e50>"
            ]
          },
          "metadata": {},
          "execution_count": 32
        }
      ]
    },
    {
      "cell_type": "markdown",
      "source": [
        "**3. Evaluation + Comparison**"
      ],
      "metadata": {
        "id": "rVDNaGSGe8Ec"
      }
    },
    {
      "cell_type": "code",
      "source": [
        "#Imporing libraries\n",
        "from sklearn.linear_model import LogisticRegression\n",
        "from sklearn.metrics import classification_report, confusion_matrix, roc_auc_score\n",
        "from sklearn.model_selection import cross_val_score\n",
        "\n",
        "\n",
        "# Logistic Regression comparison\n",
        "x_flat = x_images.reshape(x_images.shape[0], -1)\n",
        "y_flat = np.argmax(y_cat, axis=1)\n",
        "\n",
        "lr = LogisticRegression(max_iter=1000)\n",
        "scores = cross_val_score(lr, x_flat, y_flat, cv=5, scoring='accuracy')\n",
        "print(\"Logistic Regression CV Accuracy:\", scores.mean())\n",
        "\n",
        "#CNN perfomance\n",
        "y_pred = model.predict(x_test)\n",
        "y_pred_labels = np.argmax(y_pred, axis=1)\n",
        "y_true = np.argmax(y_test, axis=1)\n",
        "\n",
        "print(classification_report(y_true, y_pred_labels))\n",
        "print(\"Confusion Matrix:\\n\", confusion_matrix(y_true, y_pred_labels))"
      ],
      "metadata": {
        "colab": {
          "base_uri": "https://localhost:8080/"
        },
        "id": "-AX8JEdJepYW",
        "outputId": "265c1842-dcd2-4a72-b149-4336f2b75237"
      },
      "execution_count": 34,
      "outputs": [
        {
          "output_type": "stream",
          "name": "stdout",
          "text": [
            "Logistic Regression CV Accuracy: 0.8699999999999999\n",
            "\u001b[1m2/2\u001b[0m \u001b[32m━━━━━━━━━━━━━━━━━━━━\u001b[0m\u001b[37m\u001b[0m \u001b[1m0s\u001b[0m 243ms/step\n",
            "              precision    recall  f1-score   support\n",
            "\n",
            "           0       0.00      0.00      0.00         6\n",
            "           1       0.90      1.00      0.95        54\n",
            "\n",
            "    accuracy                           0.90        60\n",
            "   macro avg       0.45      0.50      0.47        60\n",
            "weighted avg       0.81      0.90      0.85        60\n",
            "\n",
            "Confusion Matrix:\n",
            " [[ 0  6]\n",
            " [ 0 54]]\n"
          ]
        },
        {
          "output_type": "stream",
          "name": "stderr",
          "text": [
            "/usr/local/lib/python3.11/dist-packages/sklearn/metrics/_classification.py:1565: UndefinedMetricWarning: Precision is ill-defined and being set to 0.0 in labels with no predicted samples. Use `zero_division` parameter to control this behavior.\n",
            "  _warn_prf(average, modifier, f\"{metric.capitalize()} is\", len(result))\n",
            "/usr/local/lib/python3.11/dist-packages/sklearn/metrics/_classification.py:1565: UndefinedMetricWarning: Precision is ill-defined and being set to 0.0 in labels with no predicted samples. Use `zero_division` parameter to control this behavior.\n",
            "  _warn_prf(average, modifier, f\"{metric.capitalize()} is\", len(result))\n",
            "/usr/local/lib/python3.11/dist-packages/sklearn/metrics/_classification.py:1565: UndefinedMetricWarning: Precision is ill-defined and being set to 0.0 in labels with no predicted samples. Use `zero_division` parameter to control this behavior.\n",
            "  _warn_prf(average, modifier, f\"{metric.capitalize()} is\", len(result))\n"
          ]
        }
      ]
    }
  ]
}